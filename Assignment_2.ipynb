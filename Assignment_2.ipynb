{
  "nbformat": 4,
  "nbformat_minor": 0,
  "metadata": {
    "colab": {
      "provenance": [],
      "authorship_tag": "ABX9TyNRTIXbFdhFDsz72HaixJVU",
      "include_colab_link": true
    },
    "kernelspec": {
      "name": "python3",
      "display_name": "Python 3"
    },
    "language_info": {
      "name": "python"
    }
  },
  "cells": [
    {
      "cell_type": "markdown",
      "metadata": {
        "id": "view-in-github",
        "colab_type": "text"
      },
      "source": [
        "<a href=\"https://colab.research.google.com/github/Ali-Farhad-Humayun/Assignment-2/blob/main/Assignment_2.ipynb\" target=\"_parent\"><img src=\"https://colab.research.google.com/assets/colab-badge.svg\" alt=\"Open In Colab\"/></a>"
      ]
    },
    {
      "cell_type": "markdown",
      "source": [
        "# 1. Write a simple program in HTML  that displays the heading \"HTML defines the content and structure of your website” on the web browser?"
      ],
      "metadata": {
        "id": "gkneZyr4KfUb"
      }
    },
    {
      "cell_type": "code",
      "source": [],
      "metadata": {
        "id": "o6BIllthQRJO"
      },
      "execution_count": null,
      "outputs": []
    },
    {
      "cell_type": "code",
      "execution_count": null,
      "metadata": {
        "colab": {
          "base_uri": "https://localhost:8080/",
          "height": 109
        },
        "id": "u-Whihf7__71",
        "outputId": "de564a37-c6da-469a-de9f-a0089a648515"
      },
      "outputs": [
        {
          "output_type": "execute_result",
          "data": {
            "text/plain": [
              "<IPython.core.display.HTML object>"
            ],
            "text/html": [
              "\n",
              "<!DOCTYPE html>\n",
              "<html lang=\"en\">\n",
              "<head>\n",
              "    <meta charset=\"UTF-8\">\n",
              "    <meta name=\"viewport\" content=\"width=device-width, initial-scale=1.0\">\n",
              "    <title>Answer 1 (Solution 1)</title>\n",
              "</head>\n",
              "<body>\n",
              "    <h1>HTML defines the content and structure of your website</h1> \n",
              "</body>\n",
              "</html>\n"
            ]
          },
          "metadata": {},
          "execution_count": 17
        }
      ],
      "source": [
        "from IPython.display import HTML\n",
        "html_code = \"\"\"\n",
        "<!DOCTYPE html>\n",
        "<html lang=\"en\">\n",
        "<head>\n",
        "    <meta charset=\"UTF-8\">\n",
        "    <meta name=\"viewport\" content=\"width=device-width, initial-scale=1.0\">\n",
        "    <title>Answer 1 (Heading) </title>\n",
        "</head>\n",
        "<body>\n",
        "    <h1>HTML defines the content and structure of your website</h1>\n",
        "</body>\n",
        "</html>\n",
        "\"\"\"\n",
        "HTML(html_code)"
      ]
    },
    {
      "cell_type": "markdown",
      "source": [
        "# 2. Explain the purpose of comments in HTML and provide an example of how to use comments in an HTML document?\n",
        "\n",
        "->Comments in HTML serve several important purposes:\n",
        "\n",
        "- Documentation: They help developers understand the code by providing explanations or notes about the structure, functionality, or purpose of specific sections of the HTML document.\n",
        "\n",
        "- Debugging: Comments can be used to temporarily disable parts of the code without deleting them, which is useful for testing and debugging.\n",
        "\n",
        "- Organization: They can help organize the code into sections, making it easier to navigate and maintain.\n",
        "\n",
        "- Communication: Comments can be used to communicate with other developers who might work on the same code in the future.\n",
        "\n",
        "->Syntax of HTML Comments:\n",
        "HTML comments are written using the following syntax:\n",
        "- <!-- This is a comment -->\n",
        "- Anything between <!-- and --> is treated as a comment and is not rendered by the browser.\n",
        "\n",
        "-> Example of Using Comments in HTML:\n"
      ],
      "metadata": {
        "id": "p2PyGIFhLAOs"
      }
    },
    {
      "cell_type": "code",
      "source": [
        "from IPython.display import HTML\n",
        "html_code = \"\"\"\n",
        "<!DOCTYPE html>\n",
        "<html lang=\"en\">\n",
        "<head>\n",
        "    <meta charset=\"UTF-8\">\n",
        "    <meta name=\"viewport\" content=\"width=device-width, initial-scale=1.0\">\n",
        "    <title>Answer 2 (My HTML Page) </title>\n",
        "</head>\n",
        "<body>\n",
        "    <!-- Header Section -->\n",
        "    <header>\n",
        "        <h1>Welcome to My Website</h1>\n",
        "        <p>This is a my website to demonstrate HTML comments.</p>\n",
        "    </header>\n",
        "\n",
        "    <!-- Main Content Section -->\n",
        "    <main>\n",
        "        <h2>About This Page</h2>\n",
        "        <p>This page is designed to show how comments can be used to organize and document HTML code.</p>\n",
        "\n",
        "        <!-- Temporarily disabled for testing -->\n",
        "        <!--\n",
        "        <p>This paragraph is currently commented out and will not be displayed.</p>\n",
        "        -->\n",
        "    </main>\n",
        "\n",
        "    <!-- Footer Section -->\n",
        "    <footer>\n",
        "        <p>&copy; 2025 My Website. All rights reserved.</p>\n",
        "    </footer>\n",
        "</body>\n",
        "</html>\n",
        "\"\"\"\n",
        "HTML(html_code)"
      ],
      "metadata": {
        "colab": {
          "base_uri": "https://localhost:8080/",
          "height": 190
        },
        "id": "zCOcpv1EOv9P",
        "outputId": "b285040b-7ad0-40d6-b104-f39e06c558d5"
      },
      "execution_count": null,
      "outputs": [
        {
          "output_type": "execute_result",
          "data": {
            "text/plain": [
              "<IPython.core.display.HTML object>"
            ],
            "text/html": [
              "\n",
              "<!DOCTYPE html>\n",
              "<html lang=\"en\">\n",
              "<head>\n",
              "    <meta charset=\"UTF-8\">\n",
              "    <meta name=\"viewport\" content=\"width=device-width, initial-scale=1.0\">\n",
              "    <title>My HTML Page</title>\n",
              "</head>\n",
              "<body>\n",
              "    <!-- Header Section -->\n",
              "    <header>\n",
              "        <h1>Welcome to My Website</h1>\n",
              "        <p>This is a my website to demonstrate HTML comments.</p>\n",
              "    </header>\n",
              "\n",
              "    <!-- Main Content Section -->\n",
              "    <main>\n",
              "        <h2>About This Page</h2>\n",
              "        <p>This page is designed to show how comments can be used to organize and document HTML code.</p>\n",
              "        \n",
              "        <!-- Temporarily disabled for testing -->\n",
              "        <!--\n",
              "        <p>This paragraph is currently commented out and will not be displayed.</p>\n",
              "        -->\n",
              "    </main>\n",
              "\n",
              "    <!-- Footer Section -->\n",
              "    <footer>\n",
              "        <p>&copy; 2025 My Website. All rights reserved.</p>\n",
              "    </footer>\n",
              "</body>\n",
              "</html>\n"
            ]
          },
          "metadata": {},
          "execution_count": 18
        }
      ]
    },
    {
      "cell_type": "markdown",
      "source": [
        "# 3. Write an HTML program that includes a heading, a paragraph of text, a horizontal line, and a line break. Arrange these elements to create a simple web page layout?\n"
      ],
      "metadata": {
        "id": "qWTuTXb6QbNu"
      }
    },
    {
      "cell_type": "code",
      "source": [
        "from IPython.display import HTML\n",
        "html_code = \"\"\"\n",
        "<!DOCTYPE html>\n",
        "<html lang=\"en\">\n",
        "<head>\n",
        "    <meta charset=\"UTF-8\">\n",
        "    <meta name=\"viewport\" content=\"width=device-width, initial-scale=1.0\">\n",
        "    <title>Simple Web Page Layout</title>\n",
        "</head>\n",
        "<body>\n",
        "    <!-- Main Heading -->\n",
        "    <h1>Welcome to My Simple Web Page</h1>\n",
        "\n",
        "    <!-- Horizontal Line to Separate Sections -->\n",
        "    <hr>\n",
        "\n",
        "    <!-- Paragraph of Text -->\n",
        "    <p>This is a simple web page layout created using HTML. It includes a heading, a paragraph of text, a horizontal line, and a line break. The horizontal line helps to visually separate different sections of the page, while the line break is used to create space between lines of text.</p>\n",
        "\n",
        "    <!-- Line Break -->\n",
        "    <br>\n",
        "\n",
        "    <!-- Additional Text with a Line Break -->\n",
        "    <p>This is another paragraph of text.<br>Here, a line break is used to move this sentence to the next line without creating a new paragraph.</p>\n",
        "\n",
        "    <!-- Horizontal Line to Separate Footer -->\n",
        "    <hr>\n",
        "\n",
        "    <!-- Footer Section -->\n",
        "    <p>Thank you for visiting this simple web page!</p>\n",
        "</body>\n",
        "</html>\n",
        "\"\"\"\n",
        "HTML(html_code)"
      ],
      "metadata": {
        "colab": {
          "base_uri": "https://localhost:8080/",
          "height": 241
        },
        "id": "TJVMGedeRHqB",
        "outputId": "73cfad42-015f-4c19-ef88-79bad52b387b"
      },
      "execution_count": null,
      "outputs": [
        {
          "output_type": "execute_result",
          "data": {
            "text/plain": [
              "<IPython.core.display.HTML object>"
            ],
            "text/html": [
              "\n",
              "<!DOCTYPE html>\n",
              "<html lang=\"en\">\n",
              "<head>\n",
              "    <meta charset=\"UTF-8\">\n",
              "    <meta name=\"viewport\" content=\"width=device-width, initial-scale=1.0\">\n",
              "    <title>Simple Web Page Layout</title>\n",
              "</head>\n",
              "<body>\n",
              "    <!-- Main Heading -->\n",
              "    <h1>Welcome to My Simple Web Page</h1>\n",
              "\n",
              "    <!-- Horizontal Line to Separate Sections -->\n",
              "    <hr>\n",
              "\n",
              "    <!-- Paragraph of Text -->\n",
              "    <p>This is a simple web page layout created using HTML. It includes a heading, a paragraph of text, a horizontal line, and a line break. The horizontal line helps to visually separate different sections of the page, while the line break is used to create space between lines of text.</p>\n",
              "\n",
              "    <!-- Line Break -->\n",
              "    <br>\n",
              "\n",
              "    <!-- Additional Text with a Line Break -->\n",
              "    <p>This is another paragraph of text.<br>Here, a line break is used to move this sentence to the next line without creating a new paragraph.</p>\n",
              "\n",
              "    <!-- Horizontal Line to Separate Footer -->\n",
              "    <hr>\n",
              "\n",
              "    <!-- Footer Section -->\n",
              "    <p>Thank you for visiting this simple web page!</p>\n",
              "</body>\n",
              "</html>\n"
            ]
          },
          "metadata": {},
          "execution_count": 19
        }
      ]
    },
    {
      "cell_type": "markdown",
      "source": [
        "# 4. Write a short note on Tag and element with an example?\n",
        "\n",
        "->In HTML, tags and elements are fundamental building blocks used to structure and define the content of a web page. While they are closely related, they have distinct meanings.\n",
        "\n",
        "-> Tag:\n",
        "A tag is a syntactic construct in HTML that defines the beginning or end of an element.\n",
        "\n",
        "- Tags are enclosed in angle brackets (< and >).\n",
        "\n",
        "- Most tags come in pairs: an opening tag (e.g., <p>) and a closing tag (e.g., </p>).\n",
        "\n",
        "- Some tags are self-closing and do not require a closing tag (e.g., <br>, <img>).\n",
        "\n",
        "->Element:\n",
        "- An element consists of an opening tag, content, and a closing tag (if applicable).\n",
        "\n",
        "- Elements define the structure and semantics of the content on a web page.\n",
        "\n",
        "- For example, a paragraph element includes the opening <p> tag, the text content, and the closing </p> tag.\n",
        "\n",
        "->Example of Tag and Element:\n",
        "- Here’s an example to illustrate the difference between a tag and an element:\n",
        "\n",
        "\n",
        "<p>This is a paragraph.</p>\n",
        "\n",
        "Tag: <p> (opening tag) and </p> (closing tag).\n",
        "\n",
        "Element: <p>This is a paragraph.</p> (includes the opening tag, content, and closing tag).\n",
        "\n",
        "->Key Difference:\n",
        "- A tag is the part of the code enclosed in angle brackets (< >).\n",
        "\n",
        "- An element is the combination of the tag(s) and the content they enclose.\n",
        "\n"
      ],
      "metadata": {
        "id": "ZT0Wex2PRyIv"
      }
    },
    {
      "cell_type": "markdown",
      "source": [
        "# 5. What is the DOCTYPE Declaration in HTML?\n",
        "\n",
        "- The DOCTYPE Declaration in HTML is a statement at the beginning of an HTML document that specifies the document type and version of HTML being used. It ensures the browser renders the page in standards mode for consistent and correct display.\n",
        "\n",
        "- For HTML5, the declaration is simple: <!DOCTYPE html>\n",
        "\n",
        "-> Important Points for DOCTYPE Declaration:\n",
        "- Required for all HTML documents.\n",
        "\n",
        "- Ensures proper rendering and adherence to web standards.\n",
        "\n",
        "- Modern web development uses the HTML5 DOCTYPE."
      ],
      "metadata": {
        "id": "t9EdJKA-VpXi"
      }
    }
  ]
}